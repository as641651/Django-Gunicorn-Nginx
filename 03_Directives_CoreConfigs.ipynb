{
 "cells": [
  {
   "cell_type": "markdown",
   "metadata": {},
   "source": [
    "## Directives"
   ]
  },
  {
   "cell_type": "markdown",
   "metadata": {},
   "source": [
    "Nginx's **language** is made up of **directives**\n",
    "\n",
    "Think of them as **instructions to the server to behave in one way or the other**"
   ]
  },
  {
   "cell_type": "markdown",
   "metadata": {},
   "source": [
    "**Types of directives**\n",
    "\n",
    "> 1) **Simple** : One statement ending with **semicolon**\n",
    "\n",
    "> 2) **Block** (or **Context**): Number of simple directives grouped together in a block enclosed in curly braces ```{}```\n",
    "\n",
    "> **Eg**: Take a look at **configuration file** specified under **--conf-path**, which is by default \n",
    ">> ```/etc/nginx/nginx.conf```"
   ]
  },
  {
   "cell_type": "markdown",
   "metadata": {},
   "source": [
    "## nginx.conf"
   ]
  },
  {
   "cell_type": "markdown",
   "metadata": {},
   "source": [
    "<div style=\"border:2px solid;margin:0 20px 0 20px\"></div>\n",
    "\n",
    "```bash\n",
    "# user to operate nginx\n",
    "user  nginx;\n",
    "\n",
    "# should depend on number of cpu cores available on the machine\n",
    "worker_processes  1;\n",
    "\n",
    "# path to error log file\n",
    "error_log  /var/log/nginx/error.log warn;\n",
    "\n",
    "# path to pid file. \n",
    "# This file is created when server is up and destroyed when server is down\n",
    "pid        /var/run/nginx.pid;\n",
    "\n",
    "# finetune nginx performance\n",
    "events {\n",
    "    worker_connections  1024;\n",
    "}\n",
    "\n",
    "\n",
    "http {\n",
    "    include       /etc/nginx/mime.types;\n",
    "    default_type  application/octet-stream;\n",
    "\n",
    "    log_format  main  '$remote_addr - $remote_user [$time_local] \"$request\" '\n",
    "                      '$status $body_bytes_sent \"$http_referer\" '\n",
    "                      '\"$http_user_agent\" \"$http_x_forwarded_for\"';\n",
    "\n",
    "    access_log  /var/log/nginx/access.log  main;\n",
    "\n",
    "    sendfile        on;\n",
    "    #tcp_nopush     on;\n",
    "\n",
    "    keepalive_timeout  65;\n",
    "\n",
    "    #gzip  on;\n",
    "\n",
    "    # server settings\n",
    "    include /etc/nginx/conf.d/*.conf;\n",
    "}\n",
    "```\n",
    "<div style=\"border:2px solid;margin:0 20px 0 20px\"></div>"
   ]
  },
  {
   "cell_type": "markdown",
   "metadata": {},
   "source": [
    "**user nginx;**\n",
    "\n",
    "> We need a user service account to run njinx\n",
    "\n",
    "> Never use ROOT user\n",
    "\n",
    "> User should not be able to open terminal and should not have home directory\n",
    "```bash\n",
    "#should have the following nginx user\n",
    "vim /etc/passwd\n",
    "nginx:x:101:101:nginx user,,,:/nonexistent:/bin/false\n",
    "```\n"
   ]
  },
  {
   "cell_type": "markdown",
   "metadata": {},
   "source": [
    "**worker_process 1;**\n",
    "\n",
    "> Should depend on number of cpu cores available on the machine"
   ]
  },
  {
   "cell_type": "markdown",
   "metadata": {},
   "source": [
    "**error_log  /var/log/nginx/error.log warn;**\n",
    "\n",
    "> Path to error log file\n",
    "\n",
    "> 'warn' is the level of verbosity by which errors will be logged.\n",
    "\n",
    "> There are 6 levels of verbosity\n",
    "\n",
    ">> info, notice, warn, error, crit, alert, emerg"
   ]
  },
  {
   "cell_type": "markdown",
   "metadata": {},
   "source": [
    "**pid        /var/run/nginx.pid;**\n",
    "\n",
    "> Records the **process id** of the service. \n",
    "\n",
    "> It is a file that contains a **single number**\n",
    "\n",
    "> This file is created when server is up and destroyed when server is down"
   ]
  },
  {
   "cell_type": "markdown",
   "metadata": {},
   "source": [
    "**events context**\n",
    "\n",
    "> Context for **fine-tunning performance** of nginx\n",
    "\n",
    ">Many directives can be placed in here. But only the important ones are specified here. Its better to leave the rest with default settings\n",
    "\n",
    "> [Documentation](http://nginx.org/en/docs/ngx_core_module.html#example)\n",
    "\n",
    "> a) **worker_connections**\n",
    "\n",
    ">> specifies the **max number of concurrent connections** nginx (**master**) should handle.\n",
    "\n",
    ">> Recommended value is **1024** for **single core machine**. If there are multiple cores, **multiply 1024 with num cores**\n",
    "\n",
    "> b) **multi_accpet** (on|off)\n",
    "\n",
    ">> Defines if **worker thread** can handle **more than one connection at a time**\n",
    "\n",
    ">> This is **off** by default. This lets the **nginx master** decide the **worker process** to handle the request\n",
    "\n",
    "> c) **Other directives**\n",
    "\n",
    ">> use, accept_mutex, accept_mutex_delay"
   ]
  },
  {
   "cell_type": "markdown",
   "metadata": {},
   "source": [
    "**http context**\n",
    "\n",
    "> **NOTE**: This context is **not available if** the compile arguments have **--without-http**\n",
    "\n",
    "> Provides the **configuration** file context in which the **HTTP server** directives are specified. \n",
    "\n",
    "> a) **include  /etc/nginx/mime.types;**\n",
    "\n",
    ">> This **includes** another **directive file**. \n",
    "\n",
    ">> The **mime.types** contains the context '**types**', which specifies **how to treat files with different extensions** from webserver.\n",
    "```bash\n",
    "# if file name ends with html or htm or html, make the file type as text/html, which will be used by parser\n",
    "types{\n",
    "    ...\n",
    "    text/html       html htm shtml; \n",
    "    ...\n",
    "}\n",
    "```\n",
    ">> **USAGE**: \n",
    "\n",
    ">>> Suppose you have a file **config.json** in **/usr/share/nginx/html/**, when you hit **localhost/config.json**, the browser will know the type of file and render it as json\n",
    "\n",
    ">>> Upon clicking **F12** and **network tab** --> **Response Headers**, you can find **content type** specified as **application/json** (corresponds to the mime type)\n",
    "\n",
    "> b) **default_type** application/octet-stream\n",
    "\n",
    ">> Specifies the type with which **unknown extensions should be handled**. \n",
    "\n",
    ">> **octet-stream** instructs the browser to **prompt for downloading the file** "
   ]
  },
  {
   "cell_type": "markdown",
   "metadata": {},
   "source": [
    ">c) **log_format main [FORMAT] **\n",
    "\n",
    ">> The format of log. **main** is the name of log format.\n",
    "\n",
    ">> In ```access_log  /var/log/nginx/access.log  main;```, we specify to use the log format **main**\n",
    "\n",
    ">> **NOTE**: The log files in ```/var``` are usually deleted after the operation in completed. To view logs when server is running\n",
    "```bash\n",
    "tail -f /var/log/nginx/error.log\n",
    "```"
   ]
  },
  {
   "cell_type": "markdown",
   "metadata": {},
   "source": [
    "> d) **Important optimization arguments**:\n",
    "\n",
    ">> **sendfile** : Optimizes interaction with **harddisk**.\n",
    "\n",
    ">> **tcp_nopush**: Used with **sendfile**. Does not send packet unless the full packet size is reached. This is done to send all data in least number of packets\n",
    "\n",
    ">> **tcp_nodelay**: Almost opposite of tcp_push. Traditionally, there would be a wait of **200ms** for the packet to be full before it is sent. But with this option **on** (default), data is **Sent immediately when its available**, thereby saving 200ms.\n",
    "\n",
    ">> Using both **tcp_nopush** and **tcp_nodelay** can actually **optimize** data transfer. For eg, when sending a large file, the **last packet** may be half full and will be sent immediately, thereby **saving 200ms per file**\n",
    "\n",
    "<img src=\"files/optimization.png\" />"
   ]
  },
  {
   "cell_type": "markdown",
   "metadata": {},
   "source": [
    ">> **[Reference1](https://docs.nginx.com/nginx/admin-guide/web-server/serving-static-content/)**\n",
    "\n",
    ">> **[Reference2](https://thoughts.t37.net/nginx-optimization-understanding-sendfile-tcp-nodelay-and-tcp-nopush-c55cdd276765)**"
   ]
  },
  {
   "cell_type": "markdown",
   "metadata": {},
   "source": [
    "> e) **keepalive_timeout**\n",
    "\n",
    ">> The keepalive_timeout assigns the timeout for keep-alive connections with the client. Simply put, Nginx will close connections with the client after this period of time\n",
    "\n",
    ">> This is important because, to load a webpage, the server makes a number of other request to load or download assets. If this parameter is not set, the browser should initiate new request to download assets\n",
    "\n",
    ">> This will ensure **high performance when loading long pages**"
   ]
  },
  {
   "cell_type": "markdown",
   "metadata": {},
   "source": [
    "> f) **gzip**\n",
    "\n",
    ">> Compresses data that is being sent to browser.\n",
    "\n",
    ">> The browser however needs to support gzip compression. Most modern browsers support them"
   ]
  },
  {
   "cell_type": "markdown",
   "metadata": {},
   "source": [
    ">g) **include /etc/nginx/conf.d/*.conf;**\n",
    "\n",
    ">> Include aditional settings\n",
    "\n",
    ">> By default **/etc/nginx/conf.d/** folder contains one file ```default.conf``` containing the **Server context** (more on this in next section)\n",
    "\n",
    "```python\n",
    "        server {\n",
    "            # listen on port 80\n",
    "            listen       80;\n",
    "            server_name  localhost;\n",
    "\n",
    "            location / {\n",
    "                # location of index file\n",
    "                root   /usr/share/nginx/html;\n",
    "                index  index.html index.htm;\n",
    "            }\n",
    "```"
   ]
  },
  {
   "cell_type": "markdown",
   "metadata": {},
   "source": [
    "### Check for errors in config file\n",
    "\n",
    "> ```nginx -t -c /etc/nginx/nginx.conf```"
   ]
  },
  {
   "cell_type": "code",
   "execution_count": null,
   "metadata": {},
   "outputs": [],
   "source": []
  }
 ],
 "metadata": {
  "kernelspec": {
   "display_name": "Python 3",
   "language": "python",
   "name": "python3"
  },
  "language_info": {
   "codemirror_mode": {
    "name": "ipython",
    "version": 3
   },
   "file_extension": ".py",
   "mimetype": "text/x-python",
   "name": "python",
   "nbconvert_exporter": "python",
   "pygments_lexer": "ipython3",
   "version": "3.4.3"
  }
 },
 "nbformat": 4,
 "nbformat_minor": 2
}
