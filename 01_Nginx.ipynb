{
 "cells": [
  {
   "cell_type": "markdown",
   "metadata": {},
   "source": [
    "## Nginx"
   ]
  },
  {
   "cell_type": "markdown",
   "metadata": {},
   "source": [
    ">1) **Nginx** (aka **engine-x**) acts as a **reverse proxy** \n",
    "\n",
    ">2) **Parallel processing of requests** : It handles **concurrent requests**\n",
    "\n",
    ">3) **Load balancing** : If there are **two or more webservers**, running the same application, **nginx** can **route the traffic** or even **distribute the load among webservers** \n",
    "\n",
    ">4) When using **SSL**, an **extra overhead** is required by the webserver to **encrypt/decrypt**. With **Nginx** acting as a **reverse proxy**, this work can be done on **nginx** and back-end webserver no longer have to deal with SSL.\n"
   ]
  },
  {
   "cell_type": "markdown",
   "metadata": {},
   "source": [
    "### Apache vs Nginx\n",
    "\n",
    "> **Apache** : A thread is **blocked until the request is complete**. \n",
    "\n",
    ">> New request --> new thread spawned --> proceeses request / passes request to other server --> releases thread only when reponse is received.\n",
    "\n",
    ">> **Analogy**: **Mcdonals**. Blocking people in queue till the order of the person before you is complete. \n",
    "\n",
    "> **Nginx** : A single thread is used for accepting request, and passes the work to other worker threads\n",
    "\n",
    ">> New request --> event thread accepts request --> passes request --> event thread is now free --> response returned asynchronously.\n",
    "\n",
    ">> **Analogy**: **Take away restaurnt**: Place order and become free. You are called when order is ready\n",
    "\n",
    "> **Apache** is used in cases where you want the server to **process request**(eg, serve dynamic content). **Nginx** is used when you want a reverse proxy to just **pass the request**. In some cases, both are used along slide each other\n",
    "\n",
    "> **Nginx** has an advantage here when dealing with large data. For eg, what if a request was to **stream a 1hr long video?** In **apache**, a single thread will be blocked for this task. But **nginx uses event based architecture** (discussed later), which eliminates this problem and **makes it suitable for streaming media**\n",
    "\n",
    "> In **apache**, the number of concurrent requests is limited by the **number of thread the machine can spawn**. Therefore, a costlier machine may be required to serve concurrent requests. In **nginx**, there is not such limit. Even a cheaper system can handle thousands of concurrent request. (However, response of the request depends on application implementation)\n",
    "\n",
    "> **NOTE** : For Django, we will not be dealing with apache"
   ]
  },
  {
   "cell_type": "code",
   "execution_count": null,
   "metadata": {},
   "outputs": [],
   "source": []
  }
 ],
 "metadata": {
  "kernelspec": {
   "display_name": "Python 3",
   "language": "python",
   "name": "python3"
  },
  "language_info": {
   "codemirror_mode": {
    "name": "ipython",
    "version": 3
   },
   "file_extension": ".py",
   "mimetype": "text/x-python",
   "name": "python",
   "nbconvert_exporter": "python",
   "pygments_lexer": "ipython3",
   "version": "3.4.3"
  }
 },
 "nbformat": 4,
 "nbformat_minor": 2
}
