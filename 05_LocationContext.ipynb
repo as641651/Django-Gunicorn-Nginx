{
 "cells": [
  {
   "cell_type": "markdown",
   "metadata": {},
   "source": [
    "## Location context"
   ]
  },
  {
   "cell_type": "markdown",
   "metadata": {},
   "source": [
    "> Location context is used to **map different urls paths within a domain** (Similar to URL handling in django)\n",
    "\n",
    "<img src=\"files/locationmatching.png\" />"
   ]
  },
  {
   "cell_type": "markdown",
   "metadata": {},
   "source": [
    "<div style=\"border:2px solid;margin:0 20px 0 20px\"></div>\n",
    "\n",
    "```python\n",
    "    server {\n",
    "      listen       80;\n",
    "      server_name  www.wordpress.com;\n",
    "      root   /usr/share/nginx/html/wordpress;\n",
    "\n",
    "      # www.wordpress.com\n",
    "      location / {\n",
    "      }\n",
    "\n",
    "      # www.wordpress.com/admin\n",
    "      # seraches at root/admin/admin.html\n",
    "      # use /admin.html, if the file was at the root\n",
    "      location /admin {\n",
    "          index  admin.html /admin.html;\n",
    "      }\n",
    "\n",
    "      # anything that ends in .jpg or .gif\n",
    "      # ~ represents case-sensitive\n",
    "      # .* any character except line break\n",
    "      # \\. special char needs to be prefixed with \\\n",
    "      # $ is end of string\n",
    "      location ~ /wp/.*\\.(jpg|gif)$ {\n",
    "          return 404;\n",
    "      }\n",
    "    }\n",
    "```\n",
    "<div style=\"border:2px solid;margin:0 20px 0 20px\"></div>\n"
   ]
  },
  {
   "cell_type": "markdown",
   "metadata": {},
   "source": [
    "### Resolving conflicts\n",
    "\n",
    "> 1) ```location /admin/admin.html{return 200;}``` has higher priority than ```location /admin {return 404;}```\n",
    "\n",
    ">2) ```location /admin/*.html{return 200;}``` has higher priority than ```location /admin/admin.html {return 404;}``` (Unless ```^~``` is used in the latter)\n",
    "\n",
    "> 3) ```location = /admin/admin.html{return 200;}``` has higher priority than ```location /admin/*.html {return 404;}```"
   ]
  },
  {
   "cell_type": "markdown",
   "metadata": {},
   "source": [
    "### Try files\n",
    "\n",
    "> Try a path, and if it doesn't exist, redirect to another"
   ]
  },
  {
   "cell_type": "markdown",
   "metadata": {},
   "source": [
    "```python\n",
    "  # try_files\n",
    "  location /data {\n",
    "    # if file path does not exist, return 403\n",
    "    # try_files $uri =403;\n",
    "\n",
    "    # if file path does not exist, render some html\n",
    "    try_files $uri /404.html;\n",
    "  }\n",
    "```"
   ]
  },
  {
   "cell_type": "markdown",
   "metadata": {},
   "source": [
    "### Rewrite (point to different file)\n",
    "\n",
    "> Rewrite a URL (similar to redirect)"
   ]
  },
  {
   "cell_type": "markdown",
   "metadata": {},
   "source": [
    "```python\n",
    "  #rewrite\n",
    "  location /rewrite {\n",
    "    # ^ full location path (ie domain name/rewrite in this case)\n",
    "    # (.*)$ everything after that\n",
    "    # rewrite this string with something else   \n",
    "    rewrite ^/(.*)$ /index.html?id=$1 break;\n",
    "  }\n",
    "```"
   ]
  },
  {
   "cell_type": "markdown",
   "metadata": {},
   "source": [
    "### alias (point to different root)\n",
    "\n",
    "> Point to a directory which is not accessed through root"
   ]
  },
  {
   "cell_type": "markdown",
   "metadata": {},
   "source": [
    "```python\n",
    "    # now the root will be /vol\n",
    "    location /static {\n",
    "        alias /vol/static;\n",
    "    }\n",
    "```"
   ]
  },
  {
   "cell_type": "markdown",
   "metadata": {},
   "source": [
    "### autoindex\n",
    "\n",
    "> List files in a directory.\n",
    "\n",
    "> By default, nginx sends **403 forbidden** response when URL points to a directory(unles location is specified) (However, if the client knows the exact path of the files, they can still view it. ie, *www.d.com/dowm* may be forbidden, but *www.d.com/down/file.txt* will be viewable)\n",
    "\n",
    "> To explicitly list contents, set **autoindex** to **on**"
   ]
  },
  {
   "cell_type": "markdown",
   "metadata": {},
   "source": [
    "```python\n",
    "  # auto index\n",
    "  # by default nginx does not allow viewing directories\n",
    "  # www.wordpress.com/down/ ==> forbidden\n",
    "  # to allow listing of files, use autoindex on\n",
    "  location /down {\n",
    "    autoindex on;\n",
    "  }\n",
    "```"
   ]
  },
  {
   "cell_type": "markdown",
   "metadata": {},
   "source": [
    "### Deny viewing of files in a directory"
   ]
  },
  {
   "cell_type": "markdown",
   "metadata": {},
   "source": [
    "```python\n",
    "  # deny viewing files in a directory \n",
    "  # without this, client could view the file if they know the exact uri\n",
    "  # We have to forbid, www.wordpress.com/protected/secret.json\n",
    "  location /protected {\n",
    "    deny all;\n",
    "  }\n",
    "```"
   ]
  },
  {
   "cell_type": "code",
   "execution_count": null,
   "metadata": {},
   "outputs": [],
   "source": []
  }
 ],
 "metadata": {
  "kernelspec": {
   "display_name": "Python 3",
   "language": "python",
   "name": "python3"
  },
  "language_info": {
   "codemirror_mode": {
    "name": "ipython",
    "version": 3
   },
   "file_extension": ".py",
   "mimetype": "text/x-python",
   "name": "python",
   "nbconvert_exporter": "python",
   "pygments_lexer": "ipython3",
   "version": "3.4.3"
  }
 },
 "nbformat": 4,
 "nbformat_minor": 2
}
