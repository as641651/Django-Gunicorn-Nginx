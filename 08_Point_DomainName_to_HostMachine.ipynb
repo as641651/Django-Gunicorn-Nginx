{
 "cells": [
  {
   "cell_type": "markdown",
   "metadata": {},
   "source": [
    "## Map domain name to public IP"
   ]
  },
  {
   "cell_type": "markdown",
   "metadata": {},
   "source": [
    "> 1) Find the **IPv4** address of your router\n",
    "\n",
    "> 2) Log in to your domain name provider (say, **google domains**) and navigate to **DNS settings** of your registered domain\n",
    "\n",
    "> 3) Edit the following records (minimal configuration)\n",
    "\n",
    ">> **A** ---> **Public IPv4**\n",
    "\n",
    ">> **CNAME** ---> maps one name to another. By default, domain names are not appended with **www**. Therefore, we have to set this record to map **www.mlr2d.com** to **mlr2d.com** "
   ]
  },
  {
   "cell_type": "markdown",
   "metadata": {},
   "source": [
    "<img src=\"files/domain.png\" />"
   ]
  },
  {
   "cell_type": "markdown",
   "metadata": {},
   "source": [
    "## Forward port 80 of public IP to host machine"
   ]
  },
  {
   "cell_type": "markdown",
   "metadata": {},
   "source": [
    "> 1) Log in to your **router** by entering the **gateway ip**\n",
    "\n",
    ">> **Gateway ip / Default route** can be found by checking the network settings of the connected netwrok. \n",
    "\n",
    "> 2) Find the **port forwarding** section(varies depending on the router model)\n",
    "\n",
    "> 3) Forward **port 80** to the **local IP of your machine**"
   ]
  },
  {
   "cell_type": "markdown",
   "metadata": {},
   "source": [
    "<img src=\"files/portforward.png\" />"
   ]
  },
  {
   "cell_type": "markdown",
   "metadata": {},
   "source": [
    "### Checking your live website"
   ]
  },
  {
   "cell_type": "markdown",
   "metadata": {},
   "source": [
    "> 1) Run **Django server** (make sure to have the domain name in **ALLOWED_HOSTS** in **settings.py**)\n",
    "\n",
    "> 2) **Nginx** server config should have a server listening at **port 80** and it should proxy to django server\n",
    "\n",
    ">> **Note**: If **default server** is **not set**, nginxs will point all eligibles names (localhost / local ip / public ip) to the server location context. However, if we did not have the **allowed host** set to *\\**, django will prevent hosting from other IPs except the provided name in the host. To resolve this in the nginx server, set a default server and set server name pointing to domain name\n",
    "\n",
    "> 3) Now your website can be accessed from any device with the public URL"
   ]
  },
  {
   "cell_type": "code",
   "execution_count": null,
   "metadata": {},
   "outputs": [],
   "source": []
  }
 ],
 "metadata": {
  "kernelspec": {
   "display_name": "Python 3",
   "language": "python",
   "name": "python3"
  },
  "language_info": {
   "codemirror_mode": {
    "name": "ipython",
    "version": 3
   },
   "file_extension": ".py",
   "mimetype": "text/x-python",
   "name": "python",
   "nbconvert_exporter": "python",
   "pygments_lexer": "ipython3",
   "version": "3.4.3"
  }
 },
 "nbformat": 4,
 "nbformat_minor": 2
}
