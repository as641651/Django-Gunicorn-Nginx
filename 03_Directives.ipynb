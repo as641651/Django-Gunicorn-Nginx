{
 "cells": [
  {
   "cell_type": "markdown",
   "metadata": {},
   "source": [
    "## Directives"
   ]
  },
  {
   "cell_type": "markdown",
   "metadata": {},
   "source": [
    "Nginx's **language** is made up of **directives**\n",
    "\n",
    "Think of them as **instructions to the server to behave in one way or the other**"
   ]
  },
  {
   "cell_type": "markdown",
   "metadata": {},
   "source": [
    "**Types of directives**\n",
    "\n",
    "> 1) **Simple** : One statement ending with **semicolon**\n",
    "\n",
    "> 2) **Block** (or **Context**): Number of simple directives grouped together in a block enclosed in curly braces ```{}```\n",
    "\n",
    "> **Eg**: Take a look at **configuration file** specified under **--conf-path**, which is by default \n",
    ">> ```/etc/nginx/nginx.conf```"
   ]
  },
  {
   "cell_type": "code",
   "execution_count": null,
   "metadata": {},
   "outputs": [],
   "source": []
  }
 ],
 "metadata": {
  "kernelspec": {
   "display_name": "Python 3",
   "language": "python",
   "name": "python3"
  },
  "language_info": {
   "codemirror_mode": {
    "name": "ipython",
    "version": 3
   },
   "file_extension": ".py",
   "mimetype": "text/x-python",
   "name": "python",
   "nbconvert_exporter": "python",
   "pygments_lexer": "ipython3",
   "version": "3.4.3"
  }
 },
 "nbformat": 4,
 "nbformat_minor": 2
}
