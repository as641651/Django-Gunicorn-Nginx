{
 "cells": [
  {
   "cell_type": "markdown",
   "metadata": {},
   "source": [
    "## Server context"
   ]
  },
  {
   "cell_type": "markdown",
   "metadata": {},
   "source": [
    "> **Nginx** allows for **multiple virtual servers** to be specified (more like apache), which are defined in the config files under the following directory,\n",
    "```bash\n",
    "/etc/nginx/conf.d/\n",
    "```\n",
    "> Recall that this directory was included in the main **nginx.conf** file\n",
    "```bash\n",
    " include /etc/nginx/conf.d/*.conf;\n",
    "```\n",
    "> Now, we ll look at how we can define our own servers"
   ]
  },
  {
   "cell_type": "markdown",
   "metadata": {},
   "source": [
    "### Multiple servers in same machine\n",
    "\n",
    "> 1) **Purchase** domain names to make it available in the DNS\n",
    "\n",
    "> 2) Remember that **multiple domain names can be mapped to single ip address**\n",
    "\n",
    "> 3) **Njinx** can **resolve** multiple domain names in same machine\n",
    "\n",
    "> 4) **Domain names** in **DNS** are only mapped to **public ip**, which is **ip of the modem**. To expose the server in your local machine in network, you have to **forward port 80** (note that you cant forward a single port to multiple machines in a network) \n",
    "\n",
    "> 5) For debugging, you dont need to purchase a domain name. Instead map the domain name in **/etc/hosts** of the **host machine** (not inside container). When you open the browser in the host machine, it will first try to resolve from **/etc/hosts/** before moving to DNS \n",
    "\n",
    ">> **NOTE**: If you map a domain name from DNS in **/etc/hosts**, sometimes (not always) it will **override** the actual domain and you will not be able to access that URL"
   ]
  },
  {
   "cell_type": "markdown",
   "metadata": {},
   "source": [
    "<img src=\"files/domainmap.png\" />"
   ]
  },
  {
   "cell_type": "markdown",
   "metadata": {},
   "source": [
    "> 6) When you open the browser (remember that the browser is outside the container) and hit **d1.com** or **d2.com**, it resolves the domain name from **DNS** and **forwards** the request to **port 80** of the **container**, where **nginx** then resolves to the required location. \n",
    "\n",
    "> 7) When you hot **tf.com**, the browser resolves the domain in **/etc/hosts** and forwards to port 80 of the container. Note that you can access **tf.com** only from the same machine in which the container exists."
   ]
  },
  {
   "cell_type": "markdown",
   "metadata": {},
   "source": [
    "## Demonstration showing deployment of three servers"
   ]
  },
  {
   "cell_type": "markdown",
   "metadata": {},
   "source": [
    "> **UPDATE to docker-run command**\n",
    "\n",
    ">> Map the following volumes\n",
    "\n",
    "```\n",
    "        -v ${PWD}/html/:/usr/share/nginx/html \\\n",
    "        -v ${PWD}/confs/nginx.conf:/etc/nginx/nginx.conf \\\n",
    "        -v ${PWD}/confs/conf.d/:/etc/nginx/conf.d \\\n",
    "```"
   ]
  },
  {
   "cell_type": "markdown",
   "metadata": {},
   "source": [
    "> **Create html content for each server**\n",
    "\n",
    "        html/\n",
    "            d1/\n",
    "                index.html\n",
    "            d2/\n",
    "                index.html\n",
    "            wordpress/\n",
    "                index.html"
   ]
  },
  {
   "cell_type": "markdown",
   "metadata": {},
   "source": [
    "> **conf.d/servers.conf** (make sure to include this in **nginx.conf**)"
   ]
  },
  {
   "cell_type": "markdown",
   "metadata": {},
   "source": [
    "<div style=\"border:2px solid;margin:0 20px 0 20px\"></div>\n",
    "\n",
    "```\n",
    "        server {\n",
    "          listen       80;\n",
    "          server_name  www.d1.example.com  d1.com;\n",
    "\n",
    "          location / {\n",
    "              root   /usr/share/nginx/html/d1;\n",
    "          }\n",
    "        }\n",
    "\n",
    "        server {\n",
    "          listen       80;\n",
    "          server_name  www.d2.example.com;\n",
    "\n",
    "          location / {\n",
    "              root   /usr/share/nginx/html/d2;\n",
    "          }\n",
    "        }\n",
    "\n",
    "        server {\n",
    "          listen       80;\n",
    "          server_name  www.wordpress.com;\n",
    "\n",
    "          location / {\n",
    "              root   /usr/share/nginx/html/wordpress;\n",
    "          }\n",
    "        }\n",
    "```\n",
    "<div style=\"border:2px solid;margin:0 20px 0 20px\"></div>\n"
   ]
  },
  {
   "cell_type": "markdown",
   "metadata": {},
   "source": [
    "> **Map the domain names in /etc/hosts of the host machine** (not inside docker)\n",
    "```bash\n",
    "192.168.1.2     www.d1.example.com  d1.com\n",
    "192.168.1.2     www.d2.example.com\n",
    "# this will override original website\n",
    "192.168.1.2     www.wordpress.com \n",
    "```"
   ]
  },
  {
   "cell_type": "markdown",
   "metadata": {},
   "source": [
    "> **Now your browser will the above urls to their respective index.html**\n",
    "\n",
    ">> **Default server**: If you just hit **localhost** or 192.168.1.2, it will resolve to the **first server** (when you dont have a default.conf). Otherwise you can specify a **default server** which will give a **page not found response**\n",
    "```python\n",
    "# this is used when no server name matches\n",
    "# this is also used when we hit localhost (its not recommended to make server accessible with ip)\n",
    "server {\n",
    "    listen      80 default_server;\n",
    "    server_name _ ;\n",
    "    return 404;\n",
    "}\n",
    "```\n",
    "\n",
    ">> Now the client will be able to access the server only with the right name"
   ]
  },
  {
   "cell_type": "code",
   "execution_count": null,
   "metadata": {},
   "outputs": [],
   "source": []
  }
 ],
 "metadata": {
  "kernelspec": {
   "display_name": "Python 3",
   "language": "python",
   "name": "python3"
  },
  "language_info": {
   "codemirror_mode": {
    "name": "ipython",
    "version": 3
   },
   "file_extension": ".py",
   "mimetype": "text/x-python",
   "name": "python",
   "nbconvert_exporter": "python",
   "pygments_lexer": "ipython3",
   "version": "3.4.3"
  }
 },
 "nbformat": 4,
 "nbformat_minor": 2
}
