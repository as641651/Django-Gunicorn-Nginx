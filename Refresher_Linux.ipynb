{
 "cells": [
  {
   "cell_type": "markdown",
   "metadata": {},
   "source": [
    "## Linux Refresher"
   ]
  },
  {
   "cell_type": "markdown",
   "metadata": {},
   "source": [
    "### List of Users\n",
    "\n",
    "```bash\n",
    "vim /etc/passwd\n",
    "```\n",
    "\n",
    "> The **/etc/passwd** contains **one entry per line for each user** (or user account) of the system. All fields are separated by a colon (:) symbol.\n",
    "\n",
    "<img src=\"files/userlist.png\" />\n",
    "\n"
   ]
  },
  {
   "cell_type": "markdown",
   "metadata": {},
   "source": [
    "### List of groups\n",
    "\n",
    "```bash\n",
    "    vim /etc/group\n",
    "```"
   ]
  },
  {
   "cell_type": "markdown",
   "metadata": {},
   "source": [
    "### Using grep and awk\n",
    "\n",
    "> Lets consider an example of finding the **process id** of **nginx server**\n",
    "\n",
    "<img src=\"files/grep_awk.png\" />"
   ]
  },
  {
   "cell_type": "code",
   "execution_count": null,
   "metadata": {},
   "outputs": [],
   "source": []
  }
 ],
 "metadata": {
  "kernelspec": {
   "display_name": "Python 3",
   "language": "python",
   "name": "python3"
  },
  "language_info": {
   "codemirror_mode": {
    "name": "ipython",
    "version": 3
   },
   "file_extension": ".py",
   "mimetype": "text/x-python",
   "name": "python",
   "nbconvert_exporter": "python",
   "pygments_lexer": "ipython3",
   "version": "3.4.3"
  }
 },
 "nbformat": 4,
 "nbformat_minor": 2
}
