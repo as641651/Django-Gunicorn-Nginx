{
 "cells": [
  {
   "cell_type": "markdown",
   "metadata": {},
   "source": [
    "## Inside Nginx docker image"
   ]
  },
  {
   "cell_type": "markdown",
   "metadata": {},
   "source": [
    "### Run docker image\n",
    "\n",
    "> **Convinience docker file** with **vim** installed\n",
    "\n",
    "```dockerfile\n",
    "    # nginx image\n",
    "    FROM nginx\n",
    "\n",
    "    RUN apt-get update\n",
    "    RUN apt-get install -y vim\n",
    "```\n",
    "\n",
    "> **Build**\n",
    "```bash\n",
    "docker build -t nginx .\n",
    "```\n",
    "> **Run** (By default, nginx listens on post 80)\n",
    "```bash\n",
    "docker run -it -p 80:80 nginx bash\n",
    "```"
   ]
  },
  {
   "cell_type": "markdown",
   "metadata": {},
   "source": [
    "### Inside docker container"
   ]
  },
  {
   "cell_type": "markdown",
   "metadata": {},
   "source": [
    "a) **Nginx version**\n",
    ">\n",
    "```bash\n",
    "nginx -v\n",
    "nginx version: nginx/1.15.8\n",
    "```"
   ]
  },
  {
   "cell_type": "markdown",
   "metadata": {},
   "source": [
    "b) **Default page** which runs upon starting nginx server\n",
    "\n",
    "> ``` /usr/share/nginx/html/index.html```"
   ]
  },
  {
   "cell_type": "markdown",
   "metadata": {},
   "source": [
    "c) **Log files**\n",
    "\n",
    "> **Access logs** : Has the details of **all the requests** made to the server\n",
    "```bash\n",
    "/var/log/nginx/access.log\n",
    "``` \n",
    "> **Error logs** : Has the details of all the **errors** made while accessing server\n",
    "```bash\n",
    "/var/log/nginx/error.log\n",
    "``` "
   ]
  },
  {
   "cell_type": "markdown",
   "metadata": {},
   "source": [
    "d) **Start server**\n",
    "\n",
    ">```service nginx start``` (or simply hit) ```nginx```\n",
    "\n",
    "> Open **localhost** on your browser (or hit **127.0.0.1** or **local ip address**)\n",
    "\n",
    "> You should see the default nginx home page. You can replace the **index.html** and build your own content"
   ]
  },
  {
   "cell_type": "markdown",
   "metadata": {},
   "source": [
    "e) **Stop server**\n",
    "\n",
    ">```service nginx stop```\n",
    "\n",
    "f) **Reload server**\n",
    "\n",
    ">```service nginx reload```"
   ]
  },
  {
   "cell_type": "markdown",
   "metadata": {},
   "source": [
    "g) **See compile configurations**\n",
    "\n",
    ">```nginx -V```\n",
    "\n",
    "> It will look something like this,\n",
    "\n",
    "> ```configure arguments: --prefix=/etc/nginx --sbin-path=/usr/sbin/nginx --modules-path=/usr/lib/nginx/modules --conf-path=/etc/nginx/nginx.conf --error-log-path=/var/log/nginx/error.log --http-log-path=/var/log/nginx/access.log --pid-path=/var/run/nginx.pid --lock-path=/var/run/nginx.lock --http-client-body-temp-path=/var/cache/nginx/client_temp --http-proxy-temp-path=/var/cache/nginx/proxy_temp --http-fastcgi-temp-path=/var/cache/nginx/fastcgi_temp --http-uwsgi-temp-path=/var/cache/nginx/uwsgi_temp --http-scgi-temp-path=/var/cache/nginx/scgi_temp --user=nginx --group=nginx --with-compat --with-file-aio --with-threads --with-http_addition_module --with-http_auth_request_module --with-http_dav_module --with-http_flv_module --with-http_gunzip_module --with-http_gzip_static_module --with-http_mp4_module --with-http_random_index_module --with-http_realip_module --with-http_secure_link_module --with-http_slice_module --with-http_ssl_module --with-http_stub_status_module --with-http_sub_module --with-http_v2_module --with-mail --with-mail_ssl_module --with-stream --with-stream_realip_module --with-stream_ssl_module --with-stream_ssl_preread_module --with-cc-opt='-g -O2 -fdebug-prefix-map=/data/builder/debuild/nginx-1.15.8/debian/debuild-base/nginx-1.15.8=. -specs=/usr/share/dpkg/no-pie-compile.specs -fstack-protector-strong -Wformat -Werror=format-security -Wp,-D_FORTIFY_SOURCE=2 -fPIC' --with-ld-opt='-specs=/usr/share/dpkg/no-pie-link.specs -Wl,-z,relro -Wl,-z,now -Wl,--as-needed -pie'\n",
    "```"
   ]
  },
  {
   "cell_type": "markdown",
   "metadata": {},
   "source": [
    "h) **Check if service is running**\n",
    "\n",
    "> Identify the **pid-path** in the **configurations**. In our case it is ```/var/run/nginx.pid```\n",
    "\n",
    "> When nginx service is **started**, this file **nginx.pid** will be **created**. When service is **stopped**, this file will be **destroyed**. Hence **whenever this file doesnt exist, it means no server is running**. "
   ]
  },
  {
   "cell_type": "code",
   "execution_count": null,
   "metadata": {},
   "outputs": [],
   "source": []
  }
 ],
 "metadata": {
  "kernelspec": {
   "display_name": "Python 3",
   "language": "python",
   "name": "python3"
  },
  "language_info": {
   "codemirror_mode": {
    "name": "ipython",
    "version": 3
   },
   "file_extension": ".py",
   "mimetype": "text/x-python",
   "name": "python",
   "nbconvert_exporter": "python",
   "pygments_lexer": "ipython3",
   "version": "3.4.3"
  }
 },
 "nbformat": 4,
 "nbformat_minor": 2
}
