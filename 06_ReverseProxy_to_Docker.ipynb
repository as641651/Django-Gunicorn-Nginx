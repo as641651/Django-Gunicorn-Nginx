{
 "cells": [
  {
   "cell_type": "markdown",
   "metadata": {},
   "source": [
    "## Reverse proxy to Docker"
   ]
  },
  {
   "cell_type": "markdown",
   "metadata": {},
   "source": [
    "> Lets assume that the **Django** server runs on **port 8000** of a **docker container service** named **app**\n",
    "\n",
    "> The **server config to pass server name to django docker container is**,"
   ]
  },
  {
   "cell_type": "markdown",
   "metadata": {},
   "source": [
    "```\n",
    "    server {\n",
    "        listen 80;\n",
    "        server_name www.d1.example.com;\n",
    "\n",
    "        location / {\n",
    "            try_files $uri $uri/ @python_django;\n",
    "        }\n",
    "\n",
    "\n",
    "        location @python_django {\n",
    "            proxy_pass http://app:8000;\n",
    "            proxy_pass_request_headers on;\n",
    "            proxy_set_header X-Forwarded-For $proxy_add_x_forwarded_for;\n",
    "            proxy_set_header Host $http_host;\n",
    "            proxy_set_header X-Forwarded-Proto $scheme;\n",
    "            proxy_redirect off;\n",
    "        }\n",
    "    }\n",
    "```"
   ]
  },
  {
   "cell_type": "markdown",
   "metadata": {},
   "source": [
    "> **Now you can access the django server with URL**\n",
    "```\n",
    "www.d1.example.com\n",
    "```"
   ]
  },
  {
   "cell_type": "code",
   "execution_count": null,
   "metadata": {},
   "outputs": [],
   "source": []
  }
 ],
 "metadata": {
  "kernelspec": {
   "display_name": "Python 3",
   "language": "python",
   "name": "python3"
  },
  "language_info": {
   "codemirror_mode": {
    "name": "ipython",
    "version": 3
   },
   "file_extension": ".py",
   "mimetype": "text/x-python",
   "name": "python",
   "nbconvert_exporter": "python",
   "pygments_lexer": "ipython3",
   "version": "3.4.3"
  }
 },
 "nbformat": 4,
 "nbformat_minor": 2
}
