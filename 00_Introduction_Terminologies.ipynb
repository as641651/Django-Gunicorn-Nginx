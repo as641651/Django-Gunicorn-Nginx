{
 "cells": [
  {
   "cell_type": "markdown",
   "metadata": {},
   "source": [
    "### Whats wrong with django development server?\n",
    "\n",
    ">1) Django's buit-in webserver **translates HTTP requests to python**. ```manage.py runserver``` targets **development** settings (e.g. by auto restarting on changes). \n",
    "\n",
    ">2) It can process only **one request at a time**. It is **not optmized to spawn multiple worker processes** to parallelize incoming requests to multiple cpu cores. (For this, we use **Gunicorn**) \n",
    "\n",
    ">3) They are **not optimized for handling concurrent request**. (For this we use **Nginx**)\n",
    "\n",
    "> 4) The **Django skeleton website** created using the ```django-admin``` and ```manage.py``` tools are configured to make **development easier**. Many of the **Django project settings** (specified in settings.py) **should be different for production**, either for security or performance reasons."
   ]
  },
  {
   "cell_type": "markdown",
   "metadata": {},
   "source": [
    "## Terminologies"
   ]
  },
  {
   "cell_type": "markdown",
   "metadata": {},
   "source": [
    "### 1) Proxy server\n",
    "\n",
    "Proxy is a server that **intermediates the request** between client and back-end server\n",
    "\n",
    "There are **two main types** of proxy server, which we should be familiar for this context\n",
    "\n",
    ">1) **Forward proxy** : \n",
    "\n",
    ">> Used by **client applications** like web-browsers\n",
    "\n",
    ">> **Browser pases the request to proxy server, which in turn sends the request to the actual URL**. Thus the end server may not be able to identify the client IP.\n",
    "\n",
    ">> They are usually used to **bypass firewall restrictions** in order to visit websites that are blocked by school, government, company etc.\n",
    "\n",
    "> 2) **Reverse proxy**:\n",
    "\n",
    ">> Used by **server admins** to internally map the requests to the relavant server.\n",
    "\n",
    ">> A **website** may have **several webservers running behind a reverse proxy**\n",
    "\n",
    ">> **Nginx** mainly plays the role of a **reverse proxy**"
   ]
  },
  {
   "cell_type": "markdown",
   "metadata": {},
   "source": [
    "### 2) Upstream server\n",
    "\n",
    "> In computer networking, upstream server refers to a **server that provides service to another server**. In other words, **upstream server is a server that is located higher in the hierarchy of servers**. The **highest server in the hierarchy** is sometimes called the **origin server**."
   ]
  },
  {
   "cell_type": "code",
   "execution_count": null,
   "metadata": {},
   "outputs": [],
   "source": []
  }
 ],
 "metadata": {
  "kernelspec": {
   "display_name": "Python 3",
   "language": "python",
   "name": "python3"
  },
  "language_info": {
   "codemirror_mode": {
    "name": "ipython",
    "version": 3
   },
   "file_extension": ".py",
   "mimetype": "text/x-python",
   "name": "python",
   "nbconvert_exporter": "python",
   "pygments_lexer": "ipython3",
   "version": "3.4.3"
  }
 },
 "nbformat": 4,
 "nbformat_minor": 2
}
