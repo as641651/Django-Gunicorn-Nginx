{
 "cells": [
  {
   "cell_type": "markdown",
   "metadata": {},
   "source": [
    "## Checking port status in Linux"
   ]
  },
  {
   "cell_type": "markdown",
   "metadata": {},
   "source": [
    "By default, ports are **blocked for incomming requests**\n",
    "\n",
    "> 1) Enable **ufw**\n",
    "```bash\n",
    "sudo ufw enable\n",
    "```\n",
    "> 2) **Add port**\n",
    "```bash\n",
    "sudo ufw allow http (or) sudo ufw allow 80/tcp\n",
    "sudo ufw allow ssh (or) sudo ufw allow 22\n",
    "```\n",
    "\n",
    ">3) **Deny port**\n",
    "```bash\n",
    "sudo ufw deny http\n",
    "```\n",
    "\n",
    "> 4) **List all open ports**\n",
    "\n",
    "```bash\n",
    "        sudo ufw status\n",
    "\n",
    "        To                         Action      From\n",
    "        --                         ------      ----\n",
    "        22                         ALLOW       Anywhere\n",
    "        80                         ALLOW       Anywhere\n",
    "        22 (v6)                    ALLOW       Anywhere (v6)\n",
    "        80 (v6)                    ALLOW       Anywhere (v6)\n",
    "```\n"
   ]
  },
  {
   "cell_type": "markdown",
   "metadata": {},
   "source": [
    "## List the listening ports\n",
    "\n",
    "> Suppose we have a nginx server listening on port 80, we can check it with teh following command\n",
    "```bash\n",
    "sudo netstat -ntlp | grep :80\n",
    "```"
   ]
  },
  {
   "cell_type": "code",
   "execution_count": null,
   "metadata": {},
   "outputs": [],
   "source": []
  }
 ],
 "metadata": {
  "kernelspec": {
   "display_name": "Python 3",
   "language": "python",
   "name": "python3"
  },
  "language_info": {
   "codemirror_mode": {
    "name": "ipython",
    "version": 3
   },
   "file_extension": ".py",
   "mimetype": "text/x-python",
   "name": "python",
   "nbconvert_exporter": "python",
   "pygments_lexer": "ipython3",
   "version": "3.4.3"
  }
 },
 "nbformat": 4,
 "nbformat_minor": 2
}
