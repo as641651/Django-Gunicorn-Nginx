{
 "cells": [
  {
   "cell_type": "markdown",
   "metadata": {},
   "source": [
    "## Self-signed SSL"
   ]
  },
  {
   "cell_type": "markdown",
   "metadata": {},
   "source": [
    "### 1) Generate SSL key"
   ]
  },
  {
   "cell_type": "markdown",
   "metadata": {},
   "source": [
    "```bash\n",
    "sudo openssl req -new \\\n",
    "-newkey rsa:4096 -x509 -days 365 -nodes \\\n",
    "-subj /C=US/ST=NY/L=NY/O=NA/CN=localhost \\\n",
    "-keyout KEY_DIR/insecure.key \\\n",
    "-out KEY_DIR/insecure.pem\n",
    "```\n",
    ">> **KEY_DIR** can be arbitary. But it has to be correctly pointed in the **server.conf**"
   ]
  },
  {
   "cell_type": "markdown",
   "metadata": {},
   "source": [
    "### 2) Generate dhparam\n",
    "\n",
    "```bash\n",
    "# use 4096 in production. But it may take a bit longer to generate\n",
    "sudo openssl dhparam -out KEY_DIR/dhparam.pem 2048\n",
    "```"
   ]
  },
  {
   "cell_type": "markdown",
   "metadata": {},
   "source": [
    "### 3) Map the keys to docker"
   ]
  },
  {
   "cell_type": "markdown",
   "metadata": {},
   "source": [
    "> In **nginx Dockerfile**, add\n",
    "```bash\n",
    "RUN mkdir /etc/ssl/nginx\n",
    "```"
   ]
  },
  {
   "cell_type": "markdown",
   "metadata": {},
   "source": [
    "> In **prod-compose.yml** map the **KEY_DIR volume** and **open port 443** under nginx service\n",
    "\n",
    "> Allow **HTTPS** traffic to host\n",
    "```bash\n",
    "sudo ufw allow https\n",
    "```"
   ]
  },
  {
   "cell_type": "markdown",
   "metadata": {},
   "source": [
    "```\n",
    "    nginx:\n",
    "      build:\n",
    "        context: .\n",
    "        dockerfile: Docker/prod/nginx/Dockerfile\n",
    "      ports:\n",
    "        - \"80:80\"\n",
    "        - \"443:443\"\n",
    "      volumes:\n",
    "        # app creates a docker volume, which is inturn mapped here\n",
    "        - static_files:/vol/static\n",
    "        - ${PWD}/Docker/prod/nginx/servers.conf:/etc/nginx/conf.d/servers.conf\n",
    "        # ssl keys\n",
    "        - ${PWD}/Docker/prod/nginx/ssl:/etc/ssl/nginx\n",
    "```"
   ]
  },
  {
   "cell_type": "markdown",
   "metadata": {},
   "source": [
    "### 4) Point paths to the key in server conf\n",
    "\n",
    "> Make sure to redirect http traffic to https"
   ]
  },
  {
   "cell_type": "markdown",
   "metadata": {},
   "source": [
    "```yml\n",
    "server {\n",
    "    listen 443 ssl default_server;\n",
    "    server_name localhost;\n",
    "\n",
    "    # redirect http traffic to https\n",
    "    # 444 is the WAN port\n",
    "    error_page  497 https://$host:444$request_uri;\n",
    "\n",
    "    ssl_protocols TLSv1 TLSv1.1 TLSv1.2;\n",
    "    ssl_ciphers \"ECDHE-RSA-AES256-GCM-SHA384:ECDHE-RSA-AES128-GCM-SHA256:DHE-RSA-AES256-GCM-SHA384:DHE-RSA-AES128-GCM-SHA256:ECDHE-RSA-AES256-SHA384:ECDHE-RSA-AES128-SHA256:ECDHE-RSA-AES256-SHA:ECDHE-RSA-AES128-SHA:DHE-RSA-AES256-SHA256:DHE-RSA-AES128-SHA256:DHE-RSA-AES256-SHA:DHE-RSA-AES128-SHA:ECDHE-RSA-DES-CBC3-SHA:EDH-RSA-DES-CBC3-SHA:AES256-GCM-SHA384:AES128-GCM-SHA256:AES256-SHA256:AES128-SHA256:AES256-SHA:AES128-SHA:DES-CBC3-SHA:HIGH:!aNULL:!eNULL:!EXPORT:!DES:!MD5:!PSK:!RC4\";\n",
    "    ssl_prefer_server_ciphers on;\n",
    "    ssl_session_cache shared:SSL:50m;\n",
    "    ssl_session_timeout 5m;\n",
    "    ssl_stapling on;\n",
    "    ssl_stapling_verify on;\n",
    "    resolver 8.8.8.8;\n",
    "    resolver_timeout 5s;\n",
    "    #add_header Strict-Transport-Security \"max-age=31536000; includeSubdomains;\";\n",
    "\n",
    "    ssl_dhparam /etc/ssl/nginx/dhparam.pem;\n",
    "    ssl_certificate /etc/ssl/nginx/private/insecure.pem;\n",
    "    ssl_certificate_key /etc/ssl/nginx/insecure.key;\n",
    "    ssl_trusted_certificate /etc/ssl/nginx/private/insecure.pem;\n",
    "\n",
    "    location / {\n",
    "        try_files $uri $uri/ @python_django;\n",
    "    }\n",
    "    \n",
    "    ...\n",
    "}\n",
    "```"
   ]
  },
  {
   "cell_type": "markdown",
   "metadata": {},
   "source": [
    "## When port 443 can not be opened\n",
    "\n",
    "> Sometimes, **ISP blocks port 443**\n",
    "\n",
    "> In such cases, forward someother **WAN** port to **LAN port 443** and access the webpage as\n",
    "```url\n",
    "https://domainname.com:PORT_NUM\n",
    "```"
   ]
  },
  {
   "cell_type": "code",
   "execution_count": null,
   "metadata": {},
   "outputs": [],
   "source": []
  }
 ],
 "metadata": {
  "kernelspec": {
   "display_name": "Python 3",
   "language": "python",
   "name": "python3"
  },
  "language_info": {
   "codemirror_mode": {
    "name": "ipython",
    "version": 3
   },
   "file_extension": ".py",
   "mimetype": "text/x-python",
   "name": "python",
   "nbconvert_exporter": "python",
   "pygments_lexer": "ipython3",
   "version": "3.4.3"
  }
 },
 "nbformat": 4,
 "nbformat_minor": 2
}
