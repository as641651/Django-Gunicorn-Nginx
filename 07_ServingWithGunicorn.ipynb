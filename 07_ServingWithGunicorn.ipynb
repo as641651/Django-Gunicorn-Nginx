{
 "cells": [
  {
   "cell_type": "markdown",
   "metadata": {},
   "source": [
    "## Serving with gunicorn"
   ]
  },
  {
   "cell_type": "markdown",
   "metadata": {},
   "source": [
    "> 1) **Django development server** can process only **one request at a time**\n",
    "\n",
    "> 2) Therefore, we ll replace the default develpment server with **gunicorn**. (Other options for django servers : **Mod_WSGI, uWSGI**)\n",
    "\n",
    "> 3) To use **gunicorn**, add the following requirement\n",
    "```python\n",
    "gunicorn==19.9.0\n",
    "```\n",
    "> 4) Replace ```python manage.py runserver 0.0.0.0:8000``` with **gunicorn** running **4 worker threads**\n",
    "```bash\n",
    " gunicorn -w 4 APP_NAME.wsgi -b 0.0.0.0:8000\n",
    "```\n",
    ">> **NOTE** : Point gunicorn to the **wsgi.py** file under the project directory"
   ]
  },
  {
   "cell_type": "markdown",
   "metadata": {},
   "source": [
    "### Serving static contents"
   ]
  },
  {
   "cell_type": "markdown",
   "metadata": {},
   "source": [
    "> 1) Gunicorn **does not serve static contents** like **images** (It serves JS, CSS)\n",
    "\n",
    "> 2) If static contents are present, it has to be processed by **nginx**\n",
    "\n",
    "> **Steps to serve static files with nginx**:\n",
    "\n",
    ">> 1) Set **STATIC_ROOT** in **settings.py** (say /vol/static)\n",
    "\n",
    ">> 2) Run \n",
    "```bash\n",
    "python manage.py collectstatic\n",
    "# collects all static files at /vol/static\n",
    "```\n",
    "\n",
    ">> 3) Point the **STATIC_URL** (say /static) to **STATIC_ROOT** (say /vol/static) in **nginx server config**\n",
    "```python\n",
    "    location /static {\n",
    "        # root /vol/; (or)\n",
    "        alias /vol/static;\n",
    "    }\n",
    "```\n",
    ">> **NOTE**: Pointing folder from one container (django) to another (nginx) without creating it in the host can be done with **docker volumes** (see the docker-compose.yml for example)"
   ]
  },
  {
   "cell_type": "markdown",
   "metadata": {},
   "source": [
    "### servers.conf\n",
    "\n",
    "```\n",
    "server {\n",
    "    listen 80;\n",
    "    server_name localhost;\n",
    "\n",
    "    location / {\n",
    "        try_files $uri $uri/ @python_django;\n",
    "    }\n",
    "\n",
    "    location /static {\n",
    "        # root /vol/; (or)\n",
    "        alias /vol/static;\n",
    "    }\n",
    "\n",
    "    location @python_django {\n",
    "        proxy_pass http://app:8000;\n",
    "        proxy_pass_request_headers on;\n",
    "        proxy_set_header X-Forwarded-For $proxy_add_x_forwarded_for;\n",
    "        proxy_set_header Host $http_host;\n",
    "        proxy_set_header X-Forwarded-Proto $scheme;\n",
    "        proxy_redirect off;\n",
    "    }\n",
    "}\n",
    "```"
   ]
  },
  {
   "cell_type": "markdown",
   "metadata": {},
   "source": [
    "### docker-compose.yml"
   ]
  },
  {
   "cell_type": "markdown",
   "metadata": {},
   "source": [
    "```yml\n",
    "version: \"3\"\n",
    "\n",
    "services:\n",
    "    app:\n",
    "      build:\n",
    "        context: .\n",
    "        dockerfile: Docker/prod/Dockerfile\n",
    "      ports:\n",
    "        - \"8000:8000\"\n",
    "      volumes:\n",
    "        - ./app:/app\n",
    "        # this volume is created when collectstatic command is run\n",
    "        # set static_root = /vol/static in settings.py\n",
    "        - static_files:/vol/static\n",
    "      command: >\n",
    "        sh -c \"python manage.py collectstatic --noinput &&\n",
    "               python manage.py migrate &&\n",
    "               gunicorn -w 4 app.wsgi -b 0.0.0.0:8000\"\n",
    "\n",
    "    nginx:\n",
    "      build:\n",
    "        context: .\n",
    "        dockerfile: Docker/prod/nginx/Dockerfile\n",
    "      ports:\n",
    "        - \"80:80\"\n",
    "      volumes:\n",
    "        # app creates a docker volume, which is inturn mapped here\n",
    "        - static_files:/vol/static\n",
    "        - ${PWD}/Docker/prod/nginx/servers.conf:/etc/nginx/conf.d/servers.conf\n",
    "\n",
    "volumes:\n",
    "  # gets created when collectstatic command is run\n",
    "  # because of internal mapping, we never see this folder outside\n",
    "  static_files:\n",
    "```"
   ]
  },
  {
   "cell_type": "markdown",
   "metadata": {},
   "source": [
    "### Full Code:\n",
    "\n",
    "> See **nginx-django** folder"
   ]
  },
  {
   "cell_type": "code",
   "execution_count": null,
   "metadata": {},
   "outputs": [],
   "source": []
  }
 ],
 "metadata": {
  "kernelspec": {
   "display_name": "Python 3",
   "language": "python",
   "name": "python3"
  },
  "language_info": {
   "codemirror_mode": {
    "name": "ipython",
    "version": 3
   },
   "file_extension": ".py",
   "mimetype": "text/x-python",
   "name": "python",
   "nbconvert_exporter": "python",
   "pygments_lexer": "ipython3",
   "version": "3.4.3"
  }
 },
 "nbformat": 4,
 "nbformat_minor": 2
}
