{
 "cells": [
  {
   "cell_type": "markdown",
   "metadata": {},
   "source": [
    "## Open source SSL with Lets Encrypt"
   ]
  },
  {
   "cell_type": "markdown",
   "metadata": {},
   "source": [
    "> **Let's encrypt** is a popular open source SSL encryption supported by almost all modern browsers.\n",
    "\n",
    "> It is **completely free of charge**\n",
    "\n",
    "> The certificates have to **regenrated every 90 days**"
   ]
  },
  {
   "cell_type": "markdown",
   "metadata": {},
   "source": [
    "### Getting the certificate\n",
    "\n",
    "> 1) Requires server to be running on **Port 80** (You may have to use cloud service if your ISP blocks port 80)\n",
    "\n",
    ">> **NOTE**: However, once the certificates have been issued, the SSL server can be deployede on any port\n",
    "\n",
    "> 2) Create a **location context** pointing to **/.well-known/acme-challenge/** on  a server **listening on port 80** \n",
    "\n",
    "```yml\n",
    "    server {\n",
    "      listen 80 default_server;\n",
    "      server_name mlr2d.com www.mlr2d.com;\n",
    "\n",
    "       location /.well-known/acme-challenge/ {\n",
    "            # path to some directory in your file system (inside docker container)\n",
    "            # Recall the map- {PWD}/Docker/prod/nginx/ssl:/etc/ssl/nginx\n",
    "            alias /etc/ssl/nginx/log/acme-tiny/;\n",
    "            try_files $uri =404;\n",
    "       }\n",
    "    }\n",
    "```\n",
    "> 3) To issue certificate, a **file** will be generated in the **alias directory** and will be **attempted to download** \n",
    "\n",
    "> 4) The generated keys will be placed under the directory **{PWD}/Docker/prod/nginx/ssl/key**, which will be mapped to the following directory in docker container\n",
    "```bash\n",
    "{PWD}/Docker/prod/nginx/ssl:/etc/ssl/nginx\n",
    "```\n",
    ">5) These generated keys have to pointed in the **servers.conf** file (**all other ssl configs are same as that used for self signed ssl**)\n",
    "```yml\n",
    "    ssl_certificate /etc/ssl/nginx/key/mlr2d.com.pem;\n",
    "    ssl_certificate_key /etc/ssl/nginx/key/mlr2d.com.key;\n",
    "    ssl_trusted_certificate /etc/ssl/nginx/key/mlr2d.com.pem;\n",
    "```"
   ]
  },
  {
   "cell_type": "markdown",
   "metadata": {},
   "source": [
    "### Scripts needed for generating certificates"
   ]
  },
  {
   "cell_type": "markdown",
   "metadata": {},
   "source": [
    "> 1) Script to **generate file and test download** is done by **[acme-tiny.py](https://github.com/diafygi/acme-tiny)** \n",
    "```bash\n",
    "python acme-tiny.py \\\n",
    "    --account-key \"{PRIV_KEY_ACCOUNT}\" \\\n",
    "    --csr \"{DOMAIN_CSR}\" \\\n",
    "    --acme-dir \"{ACME_CHALLENGE_PATH}\" \\\n",
    "    --ca \"{LETS_ENCRYPT_CA_URL}\" > \"{SIGNED_CERTIFICATE}\" \\\n",
    "    2>> \"{ACME_TINY_LOG_PATH}/acme-tiny.log\"\n",
    "```\n",
    "\n",
    "> 2) The **entire process is managed** by the script **issue-certificates.sh**. We just have to set the **right path for keys and logs** in such a way that they can be mapped inside the docker container\n",
    "\n",
    ">> **NOTE** : This script is run **outside docker** and **keys are generated in a volume that is mapped inside docker**.\n",
    "\n",
    "```yml\n",
    "\n",
    "    # Default locations for where certificates will live.\n",
    "    ACME_TINY_SHARE_PATH=\"Docker/prod/nginx/ssl/acme-tiny\"\n",
    "    ACME_TINY_LOG_PATH=\"Docker/prod/nginx/ssl/log/acme-tiny\"\n",
    "    # directory to test download\n",
    "    ACME_CHALLENGE_PATH=\"{ACME_TINY_LOG_PATH}\"\n",
    "\n",
    "    PRIV_KEY_ACCOUNT=\"{ACME_TINY_SHARE_PATH}/account.key\"\n",
    "    PRIV_KEY_DOMAIN=\"{ACME_TINY_SHARE_PATH}/mlr2d.com.key\"\n",
    "    DOMAIN_CSR=\"{ACME_TINY_SHARE_PATH}/mlr2d.com.csr\"\n",
    "\n",
    "    SIGNED_CERTIFICATE=\"{ACME_TINY_SHARE_PATH}/mlr2d.com.crt\"\n",
    "    INTERMEDIATE_CERTIFICATE=\"{ACME_TINY_SHARE_PATH}/intermediate.crt\"\n",
    "\n",
    "    # directory to store the final keys which will be mapped to the docker container and pointed in servers.conf\n",
    "    KEY_DIR=\"Docker/prod/nginx/ssl/key/\"\n",
    "    FINAL_PRIV_KEY=\"{KEY_DIR}/mlr2d.com.key\"\n",
    "    CHAINED_FINAL_CERTIFICATE=\"{KEY_DIR}/mlr2d.com.pem\"\n",
    "\n",
    "\n",
    "    # Create the acme-tiny install path if it doesn't exist already.\n",
    "    # This is where all of the key pairs and certificates will get generated into.\n",
    "    mkdir -p \"{ACME_TINY_SHARE_PATH}\"\n",
    "\n",
    "\n",
    "    # Create a path to store acme-tiny's log output.\n",
    "    mkdir -p \"{ACME_TINY_LOG_PATH}\"\n",
    "\n",
    "    # path to store keys for mapping to container\n",
    "    mkdir -p \"{KEY_DIR}\"\n",
    "```"
   ]
  },
  {
   "cell_type": "markdown",
   "metadata": {},
   "source": [
    "### To generate certificates\n",
    "\n",
    "> Set Mode in **issue-certificates.sh**\n",
    "```yml\n",
    "# Do you want to run Let's Encrypt in \"staging\" or \"live\" mode? You should only\n",
    "# change this to \"live\" once you are sure everything is working correctly.\n",
    "LETS_ENCRYPT_MODE=\"live\"\n",
    "```\n",
    ">> **NOTE**: To get the green lock, the certificates have to be generated in **live** mode. To check for bugs, use **staging** mode\n",
    "\n",
    "> Run \n",
    "```bash\n",
    "sudo ./issue-certificates.sh\n",
    "```\n",
    "> See status under\n",
    "```bash\n",
    "vim {ACME_TINY_LOG_PATH}/acmelog.txt\n",
    "```"
   ]
  },
  {
   "cell_type": "markdown",
   "metadata": {},
   "source": [
    "### Note:\n",
    "\n",
    "> 1) The certificates have to be **issued every 90 days** from a server that has **port 80 open**\n",
    "\n",
    "> 2) Once the certificate has been generated they can be served on any port on any host machine (just make sure to update the Host IP in google dns server)\n",
    "\n",
    "> 3) This example is demontrated under the project folder **le-nginx** (The source code need not be changed for serving on different host machines"
   ]
  },
  {
   "cell_type": "markdown",
   "metadata": {},
   "source": [
    "### Requirements for serving on google cloud\n",
    "\n",
    "> 1) **[docker and docker-compose](https://github.com/as641651/GCP/blob/master/Docker/01_Docker_Installation.ipynb)**\n",
    "\n",
    "> 2) **dig**\n",
    "```bash\n",
    "sudo apt-get install dnsutils\n",
    "```\n",
    "> 3) **gcloud instances** should have **http and https network tags**"
   ]
  },
  {
   "cell_type": "markdown",
   "metadata": {},
   "source": [
    "### Checking SSL rating\n",
    "\n",
    "> This can be done on **[ssllabs.com](https://www.ssllabs.com)**, when your https server is running on **port 443**\n",
    "\n",
    "> To get **A+ rating**, uncomment this line in **server.conf** under https server\n",
    "```bash\n",
    "#add_header Strict-Transport-Security \"max-age=31536000; includeSubdomains;\";\n",
    "```\n"
   ]
  },
  {
   "cell_type": "code",
   "execution_count": null,
   "metadata": {},
   "outputs": [],
   "source": []
  }
 ],
 "metadata": {
  "kernelspec": {
   "display_name": "Python 3",
   "language": "python",
   "name": "python3"
  },
  "language_info": {
   "codemirror_mode": {
    "name": "ipython",
    "version": 3
   },
   "file_extension": ".py",
   "mimetype": "text/x-python",
   "name": "python",
   "nbconvert_exporter": "python",
   "pygments_lexer": "ipython3",
   "version": "3.4.3"
  }
 },
 "nbformat": 4,
 "nbformat_minor": 2
}
